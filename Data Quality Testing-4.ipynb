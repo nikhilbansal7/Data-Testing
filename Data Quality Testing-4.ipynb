{
 "cells": [
  {
   "cell_type": "markdown",
   "id": "26133b08",
   "metadata": {},
   "source": [
    "#### ENTER ACCESS_KEY AND SECRET KEY"
   ]
  },
  {
   "cell_type": "code",
   "execution_count": 83,
   "id": "b4c40936",
   "metadata": {},
   "outputs": [],
   "source": [
    "Access_Key = \"LMWLG31WZS\"\n",
    "Secret_Key = \"jxAvgFWSoZmFdlTpmKCv\""
   ]
  },
  {
   "cell_type": "markdown",
   "id": "502992da",
   "metadata": {},
   "source": [
    "#### ENTER PIPELINE NUMBER, SOURCE PASSWORD, DESTINATION PASSWORD"
   ]
  },
  {
   "cell_type": "code",
   "execution_count": 84,
   "id": "8c11a936",
   "metadata": {},
   "outputs": [],
   "source": [
    "pipeline_number = 1314\n",
    "source_password = 'root'\n",
    "destination_password = 'demoDEMO1236'"
   ]
  },
  {
   "cell_type": "markdown",
   "id": "7180707c",
   "metadata": {},
   "source": [
    "### Get Pipeline API call"
   ]
  },
  {
   "cell_type": "code",
   "execution_count": 85,
   "id": "ea8a743f",
   "metadata": {},
   "outputs": [],
   "source": [
    "import requests\n",
    "import base64\n",
    "\n",
    "  \n",
    "sample_string = (Access_Key)+\":\"+(Secret_Key)\n",
    "sample_string_bytes = sample_string.encode(\"ascii\")\n",
    "  \n",
    "base64_bytes = base64.b64encode(sample_string_bytes)\n",
    "base64_string = base64_bytes.decode(\"ascii\")\n",
    "  \n",
    "#print(f\"Encoded string: {base64_string}\")\n",
    "\n",
    "url = 'https://us.hevodata.com/api/public/v2.0/pipelines/'+ str(pipeline_number)\n",
    "headers = {'Accept':'application/json','Authorization': 'Basic '+ base64_string}\n",
    "r = requests.get(url, headers=headers)\n",
    "\n",
    "#print (r.json())\n",
    "#print (r.json()['data']['destination'])"
   ]
  },
  {
   "cell_type": "markdown",
   "id": "bbc29492",
   "metadata": {},
   "source": [
    "### Initialize Source connection"
   ]
  },
  {
   "cell_type": "code",
   "execution_count": 86,
   "id": "5ca22d99",
   "metadata": {
    "scrolled": false
   },
   "outputs": [
    {
     "data": {
      "text/html": [
       "<div>\n",
       "<style scoped>\n",
       "    .dataframe tbody tr th:only-of-type {\n",
       "        vertical-align: middle;\n",
       "    }\n",
       "\n",
       "    .dataframe tbody tr th {\n",
       "        vertical-align: top;\n",
       "    }\n",
       "\n",
       "    .dataframe thead th {\n",
       "        text-align: right;\n",
       "    }\n",
       "</style>\n",
       "<table border=\"1\" class=\"dataframe\">\n",
       "  <thead>\n",
       "    <tr style=\"text-align: right;\">\n",
       "      <th></th>\n",
       "      <th>ID</th>\n",
       "      <th>sku</th>\n",
       "      <th>category</th>\n",
       "      <th>description</th>\n",
       "      <th>price</th>\n",
       "      <th>isActive</th>\n",
       "      <th>lastUpdated</th>\n",
       "      <th>countryOfOrigin</th>\n",
       "    </tr>\n",
       "  </thead>\n",
       "  <tbody>\n",
       "    <tr>\n",
       "      <th>0</th>\n",
       "      <td>2</td>\n",
       "      <td>94-627-4318</td>\n",
       "      <td>Beverage</td>\n",
       "      <td>Automotive</td>\n",
       "      <td>641.0</td>\n",
       "      <td>0.0</td>\n",
       "      <td>2020-10-15</td>\n",
       "      <td>India</td>\n",
       "    </tr>\n",
       "    <tr>\n",
       "      <th>1</th>\n",
       "      <td>3</td>\n",
       "      <td>74-796-0764</td>\n",
       "      <td>Electronics</td>\n",
       "      <td>Computers</td>\n",
       "      <td>553.0</td>\n",
       "      <td>0.0</td>\n",
       "      <td>2020-12-08</td>\n",
       "      <td>India</td>\n",
       "    </tr>\n",
       "    <tr>\n",
       "      <th>2</th>\n",
       "      <td>4</td>\n",
       "      <td>49-352-4119</td>\n",
       "      <td>Shoes</td>\n",
       "      <td>Toys</td>\n",
       "      <td>758.0</td>\n",
       "      <td>0.0</td>\n",
       "      <td>2021-05-29</td>\n",
       "      <td>India</td>\n",
       "    </tr>\n",
       "    <tr>\n",
       "      <th>3</th>\n",
       "      <td>5</td>\n",
       "      <td>04-081-4946</td>\n",
       "      <td>Electronics</td>\n",
       "      <td>Grocery</td>\n",
       "      <td>335.0</td>\n",
       "      <td>1.0</td>\n",
       "      <td>2021-02-11</td>\n",
       "      <td>India</td>\n",
       "    </tr>\n",
       "    <tr>\n",
       "      <th>4</th>\n",
       "      <td>6</td>\n",
       "      <td>46-404-3883</td>\n",
       "      <td>Beverage</td>\n",
       "      <td>Electronics</td>\n",
       "      <td>782.0</td>\n",
       "      <td>1.0</td>\n",
       "      <td>2020-06-09</td>\n",
       "      <td>India</td>\n",
       "    </tr>\n",
       "  </tbody>\n",
       "</table>\n",
       "</div>"
      ],
      "text/plain": [
       "   ID          sku     category  description  price  isActive lastUpdated  \\\n",
       "0   2  94-627-4318     Beverage   Automotive  641.0       0.0  2020-10-15   \n",
       "1   3  74-796-0764  Electronics    Computers  553.0       0.0  2020-12-08   \n",
       "2   4  49-352-4119        Shoes         Toys  758.0       0.0  2021-05-29   \n",
       "3   5  04-081-4946  Electronics      Grocery  335.0       1.0  2021-02-11   \n",
       "4   6  46-404-3883     Beverage  Electronics  782.0       1.0  2020-06-09   \n",
       "\n",
       "  countryOfOrigin  \n",
       "0           India  \n",
       "1           India  \n",
       "2           India  \n",
       "3           India  \n",
       "4           India  "
      ]
     },
     "execution_count": 86,
     "metadata": {},
     "output_type": "execute_result"
    }
   ],
   "source": [
    "import great_expectations as ge\n",
    "#import psycopg2 \n",
    "import pymysql\n",
    "import mysql.connector as mysql\n",
    "import pandas as pd\n",
    "\n",
    "if r.json()['data']['source']['type']['name']=='MYSQL':\n",
    "    user = r.json()['data']['source']['config']['db_user']\n",
    "    password = r.json()['data']['source']['config']['db_password']\n",
    "    port = r.json()['data']['source']['config']['db_port']\n",
    "    host = r.json()['data']['source']['config']['db_host']\n",
    "    db = r.json()['data']['source']['config']['db_names']\n",
    "    CONN=mysql.connect(host=str(host),user=str(user),passwd='root',db=db[0]) #case if many dbs are connected\n",
    "elif r.json()['data']['source']['type']['name']=='POSTGRES':\n",
    "    user = r.json()['data']['source']['config']['db_user']\n",
    "    password = r.json()['data']['source']['config']['db_password']\n",
    "    port = r.json()['data']['source']['config']['db_port']\n",
    "    host = r.json()['data']['source']['config']['db_host']\n",
    "    db = r.json()['data']['source']['config']['db_names']\n",
    "    CONN=psycopg2.connect(host=host,port=port,user=user,password='root',database=db)\n",
    "\n",
    "df = pd.read_sql_query(' SELECT * FROM Ecommerce.Products',CONN)\n",
    "df.head(5)"
   ]
  },
  {
   "cell_type": "markdown",
   "id": "53eb1613",
   "metadata": {},
   "source": [
    "### Initialize Destination connection"
   ]
  },
  {
   "cell_type": "code",
   "execution_count": 87,
   "id": "b688b556",
   "metadata": {},
   "outputs": [
    {
     "name": "stderr",
     "output_type": "stream",
     "text": [
      "/Users/nikhilbansal/opt/anaconda3/lib/python3.8/site-packages/ipykernel/ipkernel.py:287: DeprecationWarning: `should_run_async` will not call `transform_cell` automatically in the future. Please pass the result to `transformed_cell` argument and any exception that happen during thetransform in `preprocessing_exc_tuple` in IPython 7.17 and above.\n",
      "  and should_run_async(code)\n"
     ]
    }
   ],
   "source": [
    "import snowflake.connector\n",
    "import redshift_connector\n",
    "import pandas as pd\n",
    "\n",
    "if r.json()['data']['destination']['type']['name'] == 'SNOWFLAKE':\n",
    "    db_name = r.json()['data']['destination']['config']['db_name']\n",
    "    db_user = r.json()['data']['destination']['config']['db_user']\n",
    "    account_name = r.json()['data']['destination']['config']['account_name']\n",
    "    schema_name = r.json()['data']['destination']['config']['schema_name']\n",
    "    warehouse = r.json()['data']['destination']['config']['warehouse']\n",
    "    region = r.json()['data']['destination']['config']['region']\n",
    "    conn =  snowflake.connector.connect(user=str(db_user), password=str(destination_password), \n",
    "                                                    account=str(account_name) + \".\" + str(region), role='ACCOUNTADMIN', warehouse=warehouse,\n",
    "                                                    database = str(db_name), schema = str(schema_name))\n",
    "elif r.json()['data']['destination']['type']['name'] == 'REDSHIFT':    \n",
    "    db_name = r.json()['data']['destination']['config']['db_name']\n",
    "    db_host = r.json()['data']['destination']['config']['db_host']\n",
    "    db_user = r.json()['data']['destination']['config']['db_user']\n",
    "    db_port = r.json()['data']['destination']['config']['db_port']\n",
    "    conn = redshift_connector.connect(host=str(db_host),user=str(db_user),password='demoDEMO1236'\n",
    "                                 ,port=db_port,database=str(db_name))\n",
    "#conn\n",
    "#dff = pd.read_sql_query(\"Select * from demo.public.mysql_data_ecommerce_products\",conn)\n",
    "# dff.head(20)"
   ]
  },
  {
   "cell_type": "markdown",
   "id": "5e59ab24",
   "metadata": {},
   "source": [
    "### Loop through source tables"
   ]
  },
  {
   "cell_type": "code",
   "execution_count": 88,
   "id": "9a980894",
   "metadata": {},
   "outputs": [
    {
     "name": "stdout",
     "output_type": "stream",
     "text": [
      "['Products', 'Users', 'userAddress']\n"
     ]
    }
   ],
   "source": [
    "url = \"https://us.hevodata.com/api/public/v2.0/pipelines/\"+str(pipeline_number)+\"/event-types?limit=100\"\n",
    "\n",
    "headers = {\n",
    "    \"Accept\": \"application/json\",\n",
    "    \"Authorization\": 'Basic '+ base64_string\n",
    "}\n",
    "\n",
    "response = requests.request(\"GET\", url, headers=headers)\n",
    "\n",
    "#print(response.json())\n",
    "table_count = (response.json()['pagination']['count'])\n",
    "source_tables = []\n",
    "for i in range(table_count):\n",
    "    source_tables.append(response.json()['data'][i]['event_type'])\n",
    "    \n",
    "print(source_tables)\n"
   ]
  },
  {
   "cell_type": "markdown",
   "id": "987abb26",
   "metadata": {},
   "source": [
    "### Source Row Count"
   ]
  },
  {
   "cell_type": "code",
   "execution_count": 89,
   "id": "f7fffc7b",
   "metadata": {},
   "outputs": [
    {
     "data": {
      "text/plain": [
       "[504, 513, 505]"
      ]
     },
     "execution_count": 89,
     "metadata": {},
     "output_type": "execute_result"
    }
   ],
   "source": [
    "#df = pd.read_sql_query('show tables',db)\n",
    "source_row_count={}\n",
    "for table in source_tables:\n",
    "        #print (column)\n",
    "    source_row_count.setdefault(table,0)\n",
    "#print(source_row_count)\n",
    "\n",
    "for i in source_row_count.keys():\n",
    "    dff = pd.read_sql_query(\"Select * from Ecommerce.\"+i,CONN)\n",
    "    source_row_count[i]=dff.shape[0] \n",
    "source_row_count = {k.lower(): v for k,v in source_row_count.items()}\n",
    "source_row_count\n",
    "row_counts_1 = []\n",
    "for i in source_row_count.values():\n",
    "    row_counts_1.append(i)\n",
    "#row_counts_1 = source_row_count.values()\n",
    "row_counts_1"
   ]
  },
  {
   "cell_type": "markdown",
   "id": "91a09880",
   "metadata": {},
   "source": [
    "### Loop through respective destination tables"
   ]
  },
  {
   "cell_type": "code",
   "execution_count": 90,
   "id": "e6706382",
   "metadata": {},
   "outputs": [],
   "source": [
    "destination_tables=[]\n",
    "for i in source_tables:\n",
    "    url = \"https://us.hevodata.com/api/public/v2.0/pipelines/\"+str(pipeline_number)+\"/mappings/\" + i\n",
    "\n",
    "    headers = {\n",
    "        \"Accept\": \"application/json\",\n",
    "        \"Authorization\": 'Basic '+ base64_string\n",
    "    }\n",
    "\n",
    "    response = requests.request(\"GET\", url, headers=headers)\n",
    "    destination_tables.append(response.json()['data']['destination_table'])\n",
    "#     print(response.json()['data']['destination_table'])\n",
    "#destination_tables"
   ]
  },
  {
   "cell_type": "markdown",
   "id": "dd9868c8",
   "metadata": {},
   "source": [
    "### Destination Row Count"
   ]
  },
  {
   "cell_type": "code",
   "execution_count": 91,
   "id": "a1e378a6",
   "metadata": {},
   "outputs": [
    {
     "name": "stdout",
     "output_type": "stream",
     "text": [
      "{'test2_products': 504, 'test2_users': 513, 'test2_useraddress': 505}\n"
     ]
    },
    {
     "data": {
      "text/plain": [
       "[504, 513, 505]"
      ]
     },
     "execution_count": 91,
     "metadata": {},
     "output_type": "execute_result"
    }
   ],
   "source": [
    "destination_row_count={}\n",
    "for table in destination_tables:\n",
    "        #print (column)\n",
    "    destination_row_count.setdefault(table,0)\n",
    "#print(destination_row_count)\n",
    "for i in destination_row_count.keys():\n",
    "    dff = pd.read_sql_query(\"Select * from demo.public.\"+i,conn)\n",
    "    destination_row_count[i]=dff.shape[0] \n",
    "#     print (dff.head())\n",
    "#destinaton_row_count = {k.lower(): v for k,v in destination_tables.items()}\n",
    "print(destination_row_count)\n",
    "row_counts_2=[]\n",
    "for i in destination_row_count.values():\n",
    "    row_counts_2.append(i)\n",
    "#row_counts_1 = source_row_count.values()\n",
    "row_counts_2\n",
    "\n",
    "# dff = pd.read_sql_query(\"Select * from demo.public.test1_users\",conn)\n",
    "# dff.head()"
   ]
  },
  {
   "cell_type": "markdown",
   "id": "29273f54",
   "metadata": {},
   "source": [
    "## Plotting"
   ]
  },
  {
   "cell_type": "code",
   "execution_count": 92,
   "id": "f62c71d3",
   "metadata": {},
   "outputs": [
    {
     "data": {
      "image/png": "[encoded data removed]",
      "text/plain": [
       "<Figure size 432x288 with 1 Axes>"
      ]
     },
     "metadata": {
      "needs_background": "light"
     },
     "output_type": "display_data"
    }
   ],
   "source": [
    "import matplotlib.pyplot as plt\n",
    "import numpy as np\n",
    "\n",
    "x = np.arange(len(source_tables))  # the label locations\n",
    "width = 0.35  # the width of the bars\n",
    "\n",
    "fig, ax = plt.subplots()\n",
    "rects1 = ax.bar(x - width/2, row_counts_1, width, label='Source')\n",
    "rects2 = ax.bar(x + width/2, row_counts_2, width, label='Destination')\n",
    "\n",
    "# Add some text for labels, title and custom x-axis tick labels, etc.\n",
    "ax.set_ylabel('Count')\n",
    "ax.set_title('Table count in source and destination')\n",
    "ax.set_xticks(x) # values\n",
    "ax.set_xticklabels(source_tables) # labels\n",
    "ax.legend()\n",
    "\n",
    "# ax.bar_label(rects1, padding=3)\n",
    "# ax.bar_label(rects2, padding=3)\n",
    "\n",
    "fig.tight_layout()\n",
    "\n",
    "plt.show()"
   ]
  },
  {
   "cell_type": "markdown",
   "id": "ccc45f4c",
   "metadata": {},
   "source": [
    "### Compare Row Count of both tables"
   ]
  },
  {
   "cell_type": "code",
   "execution_count": 93,
   "id": "c06c4540",
   "metadata": {},
   "outputs": [],
   "source": [
    "# data.expect_table_row_count_to_equal(df.shape[0])"
   ]
  },
  {
   "cell_type": "markdown",
   "id": "ae653a92",
   "metadata": {},
   "source": [
    "### Compare Column Count"
   ]
  },
  {
   "cell_type": "code",
   "execution_count": 94,
   "id": "446e0439",
   "metadata": {},
   "outputs": [],
   "source": [
    "# data.expect_table_column_count_to_equal(df.shape[1])"
   ]
  },
  {
   "cell_type": "markdown",
   "id": "beb6d129",
   "metadata": {},
   "source": [
    "### Column Values to not be NULL"
   ]
  },
  {
   "cell_type": "code",
   "execution_count": 95,
   "id": "4cc7b0f3",
   "metadata": {},
   "outputs": [],
   "source": [
    "# data.expect_column_values_to_not_be_null('ID')"
   ]
  },
  {
   "cell_type": "markdown",
   "id": "a3ba6cde",
   "metadata": {},
   "source": [
    "### Column values to be unique"
   ]
  },
  {
   "cell_type": "code",
   "execution_count": 96,
   "id": "45ddbec8",
   "metadata": {},
   "outputs": [],
   "source": [
    "# data.expect_column_values_to_be_unique('ID')"
   ]
  }
 ],
 "metadata": {
  "kernelspec": {
   "display_name": "Python 3",
   "language": "python",
   "name": "python3"
  },
  "language_info": {
   "codemirror_mode": {
    "name": "ipython",
    "version": 3
   },
   "file_extension": ".py",
   "mimetype": "text/x-python",
   "name": "python",
   "nbconvert_exporter": "python",
   "pygments_lexer": "ipython3",
   "version": "3.8.8"
  }
 },
 "nbformat": 4,
 "nbformat_minor": 5
}
