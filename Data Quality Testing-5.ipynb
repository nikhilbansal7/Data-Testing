{
 "cells": [
  {
   "cell_type": "markdown",
   "id": "26133b08",
   "metadata": {},
   "source": [
    "#### ENTER ACCESS_KEY AND SECRET KEY"
   ]
  },
  {
   "cell_type": "code",
   "execution_count": 10,
   "id": "b4c40936",
   "metadata": {},
   "outputs": [],
   "source": [
    "Access_Key = \"LMWLG31WZS\"\n",
    "Secret_Key = \"jxAvgFWSoZmFdlTpmKCv\""
   ]
  },
  {
   "cell_type": "markdown",
   "id": "502992da",
   "metadata": {},
   "source": [
    "#### ENTER PIPELINE NUMBER, SOURCE PASSWORD, DESTINATION PASSWORD"
   ]
  },
  {
   "cell_type": "code",
   "execution_count": 11,
   "id": "8c11a936",
   "metadata": {},
   "outputs": [],
   "source": [
    "pipeline_number = 1314\n",
    "source_password = 'root'\n",
    "destination_password = 'demoDEMO1236'\n",
    "Region = 'US'\n",
    "database_name = 'Ecommerce' "
   ]
  },
  {
   "cell_type": "markdown",
   "id": "7180707c",
   "metadata": {},
   "source": [
    "### Get Pipeline API call"
   ]
  },
  {
   "cell_type": "code",
   "execution_count": 12,
   "id": "ea8a743f",
   "metadata": {},
   "outputs": [],
   "source": [
    "import requests\n",
    "import base64\n",
    "\n",
    "  \n",
    "sample_string = (Access_Key)+\":\"+(Secret_Key)\n",
    "sample_string_bytes = sample_string.encode(\"ascii\")\n",
    "  \n",
    "base64_bytes = base64.b64encode(sample_string_bytes)\n",
    "base64_string = base64_bytes.decode(\"ascii\")\n",
    "  \n",
    "#print(f\"Encoded string: {base64_string}\")\n",
    "\n",
    "url = 'https://'+ Region + '.hevodata.com/api/public/v2.0/pipelines/'+ str(pipeline_number)\n",
    "headers = {'Accept':'application/json','Authorization': 'Basic '+ base64_string}\n",
    "r = requests.get(url, headers=headers)\n",
    "\n",
    "#print (r.json())\n",
    "#print (r.json()['data']['destination'])"
   ]
  },
  {
   "cell_type": "markdown",
   "id": "bbc29492",
   "metadata": {},
   "source": [
    "### Initialize Source connection"
   ]
  },
  {
   "cell_type": "code",
   "execution_count": 53,
   "id": "5ca22d99",
   "metadata": {
    "scrolled": false
   },
   "outputs": [
    {
     "data": {
      "text/html": [
       "<div>\n",
       "<style scoped>\n",
       "    .dataframe tbody tr th:only-of-type {\n",
       "        vertical-align: middle;\n",
       "    }\n",
       "\n",
       "    .dataframe tbody tr th {\n",
       "        vertical-align: top;\n",
       "    }\n",
       "\n",
       "    .dataframe thead th {\n",
       "        text-align: right;\n",
       "    }\n",
       "</style>\n",
       "<table border=\"1\" class=\"dataframe\">\n",
       "  <thead>\n",
       "    <tr style=\"text-align: right;\">\n",
       "      <th></th>\n",
       "      <th>rows</th>\n",
       "    </tr>\n",
       "  </thead>\n",
       "  <tbody>\n",
       "    <tr>\n",
       "      <th>0</th>\n",
       "      <td>513</td>\n",
       "    </tr>\n",
       "  </tbody>\n",
       "</table>\n",
       "</div>"
      ],
      "text/plain": [
       "   rows\n",
       "0   513"
      ]
     },
     "execution_count": 53,
     "metadata": {},
     "output_type": "execute_result"
    }
   ],
   "source": [
    "# import great_expectations as ge\n",
    "#import psycopg2 \n",
    "import pymysql\n",
    "import mysql.connector as mysql\n",
    "import pandas as pd\n",
    "\n",
    "#switch case\n",
    "user = r.json()['data']['source']['config']['db_user']\n",
    "password = r.json()['data']['source']['config']['db_password']\n",
    "port = r.json()['data']['source']['config']['db_port']\n",
    "host = r.json()['data']['source']['config']['db_host']\n",
    "db = r.json()['data']['source']['config']['db_names']\n",
    "if r.json()['data']['source']['type']['name']=='MYSQL':\n",
    "    CONN=mysql.connect(host=str(host),user=str(user),passwd='root',db=database_name) #case if many dbs are connected\n",
    "elif r.json()['data']['source']['type']['name']=='POSTGRES':\n",
    "    CONN=psycopg2.connect(host=host,port=port,user=user,password='root',database=db)\n",
    "\n",
    "# df = pd.read_sql_query('SELECT COUNT(distinct ID) as rows FROM Ecommerce.Users ',CONN)\n",
    "# df.head(1000)"
   ]
  },
  {
   "cell_type": "markdown",
   "id": "53eb1613",
   "metadata": {},
   "source": [
    "### Initialize Destination connection (Redshift,Snowflake,MySQL,Postgres)"
   ]
  },
  {
   "cell_type": "code",
   "execution_count": 14,
   "id": "b688b556",
   "metadata": {},
   "outputs": [],
   "source": [
    "import snowflake.connector\n",
    "import redshift_connector\n",
    "import pandas as pd\n",
    "\n",
    "if r.json()['data']['destination']['type']['name'] == 'SNOWFLAKE':\n",
    "    db_name = r.json()['data']['destination']['config']['db_name']\n",
    "    db_user = r.json()['data']['destination']['config']['db_user']\n",
    "    account_name = r.json()['data']['destination']['config']['account_name']\n",
    "    schema_name = r.json()['data']['destination']['config']['schema_name']\n",
    "    warehouse = r.json()['data']['destination']['config']['warehouse']\n",
    "    region = r.json()['data']['destination']['config']['region']\n",
    "    conn =  snowflake.connector.connect(user=str(db_user), password=str(destination_password), \n",
    "                                                    account=str(account_name) + \".\" + str(region), role='ACCOUNTADMIN', warehouse=warehouse,\n",
    "                                                    database = str(db_name), schema = str(schema_name))\n",
    "elif r.json()['data']['destination']['type']['name'] == 'REDSHIFT':    \n",
    "    db_name = r.json()['data']['destination']['config']['db_name']\n",
    "    db_host = r.json()['data']['destination']['config']['db_host']\n",
    "    db_user = r.json()['data']['destination']['config']['db_user']\n",
    "    db_port = r.json()['data']['destination']['config']['db_port']\n",
    "    conn = redshift_connector.connect(host=str(db_host),user=str(db_user),password='demoDEMO1236'\n",
    "                                 ,port=db_port,database=str(db_name))\n",
    "elif r.json()['data']['destination']['type']['name'] == 'MYSQL' or 'POSTGRES':\n",
    "    user = r.json()['data']['source']['config']['db_user']\n",
    "    password = r.json()['data']['source']['config']['db_password']\n",
    "    port = r.json()['data']['source']['config']['db_port']\n",
    "    host = r.json()['data']['source']['config']['db_host']\n",
    "    db = r.json()['data']['source']['config']['db_names']\n",
    "    if r.json()['data']['destination']['type']['name'] == 'MYSQL':\n",
    "        CONN=mysql.connect(host=str(host),user=str(user),passwd='root',db=database_name)\n",
    "    elif r.json()['data']['destination']['type']['name'] == 'POSTGRES':\n",
    "        CONN=psycopg2.connect(host=host,port=port,user=user,password='root',database=db)\n",
    "        \n",
    "        \n",
    "#conn\n",
    "# dff = pd.read_sql_query(\"Select * from demo.public.mysql_data_ecommerce_products\",conn)\n",
    "# dff.head(20)"
   ]
  },
  {
   "cell_type": "markdown",
   "id": "5e59ab24",
   "metadata": {},
   "source": [
    "### Loop through source tables"
   ]
  },
  {
   "cell_type": "code",
   "execution_count": 15,
   "id": "9a980894",
   "metadata": {},
   "outputs": [
    {
     "name": "stdout",
     "output_type": "stream",
     "text": [
      "['Products', 'Users', 'userAddress']\n"
     ]
    }
   ],
   "source": [
    "url = \"https://us.hevodata.com/api/public/v2.0/pipelines/\"+str(pipeline_number)+\"/event-types?limit=100\"\n",
    "\n",
    "headers = {\n",
    "    \"Accept\": \"application/json\",\n",
    "    \"Authorization\": 'Basic '+ base64_string\n",
    "}\n",
    "\n",
    "response = requests.request(\"GET\", url, headers=headers)\n",
    "\n",
    "#print(response.json())\n",
    "table_count = (response.json()['pagination']['count'])\n",
    "source_tables = []\n",
    "for i in range(table_count):\n",
    "    source_tables.append(response.json()['data'][i]['event_type'])\n",
    "    \n",
    "print(source_tables)"
   ]
  },
  {
   "cell_type": "markdown",
   "id": "987abb26",
   "metadata": {},
   "source": [
    "### Source Row Count"
   ]
  },
  {
   "cell_type": "code",
   "execution_count": 43,
   "id": "f7fffc7b",
   "metadata": {},
   "outputs": [
    {
     "data": {
      "text/plain": [
       "{'Products': 504, 'Users': 513, 'userAddress': 505}"
      ]
     },
     "execution_count": 43,
     "metadata": {},
     "output_type": "execute_result"
    }
   ],
   "source": [
    "#df = pd.read_sql_query('show tables',db)\n",
    "source_row_count={}\n",
    "for table in source_tables:\n",
    "        #print (column)\n",
    "    source_row_count.setdefault(table,0)\n",
    "#print(source_row_count)\n",
    "\n",
    "for i in source_row_count.keys():\n",
    "    df = pd.read_sql_query('SELECT COUNT(*) as rows FROM Ecommerce.'+i,CONN)\n",
    "    source_row_count[i]=df.rows[0] \n",
    "#source_row_count\n",
    "row_counts_1 = []\n",
    "for i in source_row_count.values():\n",
    "    row_counts_1.append(i)\n",
    "row_counts_1\n"
   ]
  },
  {
   "cell_type": "markdown",
   "id": "91a09880",
   "metadata": {},
   "source": [
    "### Loop through respective destination tables"
   ]
  },
  {
   "cell_type": "code",
   "execution_count": 44,
   "id": "e6706382",
   "metadata": {},
   "outputs": [
    {
     "ename": "KeyError",
     "evalue": "'destination_table'",
     "output_type": "error",
     "traceback": [
      "\u001b[0;31m---------------------------------------------------------------------------\u001b[0m",
      "\u001b[0;31mKeyError\u001b[0m                                  Traceback (most recent call last)",
      "\u001b[0;32m<ipython-input-44-62dfa2017a4d>\u001b[0m in \u001b[0;36m<module>\u001b[0;34m\u001b[0m\n\u001b[1;32m     10\u001b[0m \u001b[0;34m\u001b[0m\u001b[0m\n\u001b[1;32m     11\u001b[0m     \u001b[0mresponse\u001b[0m \u001b[0;34m=\u001b[0m \u001b[0mrequests\u001b[0m\u001b[0;34m.\u001b[0m\u001b[0mrequest\u001b[0m\u001b[0;34m(\u001b[0m\u001b[0;34m\"GET\"\u001b[0m\u001b[0;34m,\u001b[0m \u001b[0murl\u001b[0m\u001b[0;34m,\u001b[0m \u001b[0mheaders\u001b[0m\u001b[0;34m=\u001b[0m\u001b[0mheaders\u001b[0m\u001b[0;34m)\u001b[0m\u001b[0;34m\u001b[0m\u001b[0;34m\u001b[0m\u001b[0m\n\u001b[0;32m---> 12\u001b[0;31m     \u001b[0mdestination_tables\u001b[0m\u001b[0;34m.\u001b[0m\u001b[0mappend\u001b[0m\u001b[0;34m(\u001b[0m\u001b[0mresponse\u001b[0m\u001b[0;34m.\u001b[0m\u001b[0mjson\u001b[0m\u001b[0;34m(\u001b[0m\u001b[0;34m)\u001b[0m\u001b[0;34m[\u001b[0m\u001b[0;34m'data'\u001b[0m\u001b[0;34m]\u001b[0m\u001b[0;34m[\u001b[0m\u001b[0;34m'destination_table'\u001b[0m\u001b[0;34m]\u001b[0m\u001b[0;34m)\u001b[0m\u001b[0;34m\u001b[0m\u001b[0;34m\u001b[0m\u001b[0m\n\u001b[0m\u001b[1;32m     13\u001b[0m \u001b[0;31m#     print(response.json()['data'])\u001b[0m\u001b[0;34m\u001b[0m\u001b[0;34m\u001b[0m\u001b[0;34m\u001b[0m\u001b[0m\n\u001b[1;32m     14\u001b[0m \u001b[0mdestination_tables\u001b[0m\u001b[0;34m\u001b[0m\u001b[0;34m\u001b[0m\u001b[0m\n",
      "\u001b[0;31mKeyError\u001b[0m: 'destination_table'"
     ]
    }
   ],
   "source": [
    "#Fetch Prefix??\n",
    "destination_tables=[]\n",
    "for i in source_tables:\n",
    "    url = \"https://us.hevodata.com/api/public/v2.0/pipelines/\"+str(pipeline_number)+\"/mappings/\" + i\n",
    "\n",
    "    headers = {\n",
    "        \"Accept\": \"application/json\",\n",
    "        \"Authorization\": 'Basic '+ base64_string\n",
    "    }\n",
    "\n",
    "    response = requests.request(\"GET\", url, headers=headers)\n",
    "    destination_tables.append(response.json()['data']['destination_table'])\n",
    "#     print(response.json()['data'])\n",
    "destination_tables"
   ]
  },
  {
   "cell_type": "markdown",
   "id": "dd9868c8",
   "metadata": {},
   "source": [
    "### Destination Row Count"
   ]
  },
  {
   "cell_type": "code",
   "execution_count": null,
   "id": "a1e378a6",
   "metadata": {},
   "outputs": [],
   "source": [
    "destination_row_count={}\n",
    "for table in destination_tables:\n",
    "        #print (column)\n",
    "    destination_row_count.setdefault(table,0)\n",
    "#print(destination_row_count)\n",
    "for i in destination_row_count.keys():\n",
    "    dff = pd.read_sql_query(\"Select COUNT(*) as rows from demo.public.\"+i,conn)\n",
    "    destination_row_count[i]=dff.rows[0] \n",
    "#     print (dff.head())\n",
    "#destinaton_row_count = {k.lower(): v for k,v in destination_tables.items()}\n",
    "print(destination_row_count)\n",
    "row_counts_2=[]\n",
    "for i in destination_row_count.values():\n",
    "    row_counts_2.append(i)\n",
    "#row_counts_1 = source_row_count.values()\n",
    "row_counts_2\n",
    "# dff = pd.read_sql_query(\"Select * from demo.public.test1_users\",conn)\n",
    "# dff.head()"
   ]
  },
  {
   "cell_type": "markdown",
   "id": "29273f54",
   "metadata": {},
   "source": [
    "## Plotting"
   ]
  },
  {
   "cell_type": "code",
   "execution_count": null,
   "id": "f62c71d3",
   "metadata": {},
   "outputs": [],
   "source": [
    "import matplotlib.pyplot as plt\n",
    "import numpy as np\n",
    "\n",
    "x = np.arange(len(source_tables))  # the label locations\n",
    "width = 0.35  # the width of the bars\n",
    "\n",
    "fig, ax = plt.subplots()\n",
    "rects1 = ax.bar(x - width/2, row_counts_1, width, label='Source')\n",
    "rects2 = ax.bar(x + width/2, row_counts_2, width, label='Destination')\n",
    "\n",
    "# Add some text for labels, title and custom x-axis tick labels, etc.\n",
    "ax.set_ylabel('Count')\n",
    "ax.set_title('Table count in source and destination')\n",
    "ax.set_xticks(x) # values\n",
    "ax.set_xticklabels(source_tables) # labels\n",
    "ax.legend()\n",
    "\n",
    "# ax.bar_label(rects1, padding=3)\n",
    "# ax.bar_label(rects2, padding=3)\n",
    "\n",
    "fig.tight_layout()\n",
    "\n",
    "plt.show()"
   ]
  },
  {
   "cell_type": "markdown",
   "id": "ccc45f4c",
   "metadata": {},
   "source": [
    "### Compare Row Count of both tables"
   ]
  },
  {
   "cell_type": "code",
   "execution_count": null,
   "id": "c06c4540",
   "metadata": {},
   "outputs": [],
   "source": [
    "# data.expect_table_row_count_to_equal(df.shape[0])"
   ]
  },
  {
   "cell_type": "markdown",
   "id": "ae653a92",
   "metadata": {},
   "source": [
    "### Compare Column Count"
   ]
  },
  {
   "cell_type": "code",
   "execution_count": null,
   "id": "446e0439",
   "metadata": {},
   "outputs": [],
   "source": [
    "# data.expect_table_column_count_to_equal(df.shape[1])"
   ]
  },
  {
   "cell_type": "markdown",
   "id": "beb6d129",
   "metadata": {},
   "source": [
    "### Column Values to not be NULL"
   ]
  },
  {
   "cell_type": "code",
   "execution_count": null,
   "id": "4cc7b0f3",
   "metadata": {},
   "outputs": [],
   "source": [
    "# data.expect_column_values_to_not_be_null('ID')"
   ]
  },
  {
   "cell_type": "markdown",
   "id": "a3ba6cde",
   "metadata": {},
   "source": [
    "### Column values to be unique"
   ]
  },
  {
   "cell_type": "code",
   "execution_count": null,
   "id": "45ddbec8",
   "metadata": {},
   "outputs": [],
   "source": [
    "# data.expect_column_values_to_be_unique('ID')"
   ]
  },
  {
   "cell_type": "code",
   "execution_count": null,
   "id": "4e4575f4",
   "metadata": {},
   "outputs": [],
   "source": [
    "1. Change source and dest count queries - N done\n",
    "2. Cluster input - N done\n",
    "3. Requirements.txt - S\n",
    "4. DataFrame output - S\n",
    "5. Source : add MS_SQL, MongoDB - N\n",
    "6. Destination: add MySQL, PG - N done \n",
    "7. Clean code - N \n",
    "8. DB name input - N - done\n",
    "9. Unique count - N - 'SELECT ID, COUNT(*) FROM Ecommerce.Users GROUP BY 1 HAVING COUNT(*) = 1',CONN  \n",
    "'SELECT COUNT(distinct ID) as rows FROM Ecommerce.Users' done\n",
    "10.Output to excel - S"
   ]
  },
  {
   "cell_type": "code",
   "execution_count": 4,
   "id": "f15e77df",
   "metadata": {},
   "outputs": [
    {
     "ename": "Error",
     "evalue": "('01000', \"[01000] [unixODBC][Driver Manager]Can't open lib 'SQL Server' : file not found (0) (SQLDriverConnect)\")",
     "output_type": "error",
     "traceback": [
      "\u001b[0;31m---------------------------------------------------------------------------\u001b[0m",
      "\u001b[0;31mError\u001b[0m                                     Traceback (most recent call last)",
      "\u001b[0;32m<ipython-input-4-d85845d435d1>\u001b[0m in \u001b[0;36m<module>\u001b[0;34m\u001b[0m\n\u001b[1;32m      1\u001b[0m \u001b[0;32mimport\u001b[0m \u001b[0mpyodbc\u001b[0m\u001b[0;34m\u001b[0m\u001b[0;34m\u001b[0m\u001b[0m\n\u001b[1;32m      2\u001b[0m \u001b[0;34m\u001b[0m\u001b[0m\n\u001b[0;32m----> 3\u001b[0;31m conn = pyodbc.connect('Driver={SQL Server};'\n\u001b[0m\u001b[1;32m      4\u001b[0m                       \u001b[0;34m'Server=http://solutions-demodb.hevo.me/;'\u001b[0m\u001b[0;34m\u001b[0m\u001b[0;34m\u001b[0m\u001b[0m\n\u001b[1;32m      5\u001b[0m                       \u001b[0;34m'Database=ecommerce;'\u001b[0m\u001b[0;34m\u001b[0m\u001b[0;34m\u001b[0m\u001b[0m\n",
      "\u001b[0;31mError\u001b[0m: ('01000', \"[01000] [unixODBC][Driver Manager]Can't open lib 'SQL Server' : file not found (0) (SQLDriverConnect)\")"
     ]
    }
   ],
   "source": [
    "import pyodbc \n",
    "\n",
    "conn = pyodbc.connect('Driver={SQL Server};'\n",
    "                      'Server=http://solutions-demodb.hevo.me/;'\n",
    "                      'Database=ecommerce;'\n",
    "                      'Trusted_Connection=yes;'\n",
    "                      'UID=root;'\n",
    "                      'PWD=root;')\n",
    "\n",
    "df = pd.read_sql_query('SELECT * FROM products', conn)\n",
    "\n",
    "print(df)\n",
    "print(type(df))"
   ]
  },
  {
   "cell_type": "code",
   "execution_count": 6,
   "id": "6ec39bb6",
   "metadata": {},
   "outputs": [
    {
     "data": {
      "text/plain": [
       "[]"
      ]
     },
     "execution_count": 6,
     "metadata": {},
     "output_type": "execute_result"
    }
   ],
   "source": [
    "pyodbc.drivers()"
   ]
  }
 ],
 "metadata": {
  "kernelspec": {
   "display_name": "Python 3",
   "language": "python",
   "name": "python3"
  },
  "language_info": {
   "codemirror_mode": {
    "name": "ipython",
    "version": 3
   },
   "file_extension": ".py",
   "mimetype": "text/x-python",
   "name": "python",
   "nbconvert_exporter": "python",
   "pygments_lexer": "ipython3",
   "version": "3.8.8"
  }
 },
 "nbformat": 4,
 "nbformat_minor": 5
}
