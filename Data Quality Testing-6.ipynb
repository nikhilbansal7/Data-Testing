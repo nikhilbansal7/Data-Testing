{
 "cells": [
  {
   "cell_type": "markdown",
   "id": "26133b08",
   "metadata": {},
   "source": [
    "#### ENTER ACCESS_KEY AND SECRET KEY"
   ]
  },
  {
   "cell_type": "code",
   "execution_count": 8,
   "id": "b4c40936",
   "metadata": {},
   "outputs": [],
   "source": [
    "Access_Key = \"LMWLG31WZS\"\n",
    "Secret_Key = \"jxAvgFWSoZmFdlTpmKCv\""
   ]
  },
  {
   "cell_type": "markdown",
   "id": "502992da",
   "metadata": {},
   "source": [
    "#### ENTER PIPELINE NUMBER, SOURCE PASSWORD, DESTINATION PASSWORD"
   ]
  },
  {
   "cell_type": "code",
   "execution_count": 9,
   "id": "8c11a936",
   "metadata": {},
   "outputs": [],
   "source": [
    "pipeline_number = 1558\n",
    "source_password = 'root'\n",
    "destination_password = 'Hevo@12345'\n",
    "Region = 'US'\n",
    "database_name = 'Ecommerce' "
   ]
  },
  {
   "cell_type": "markdown",
   "id": "7180707c",
   "metadata": {},
   "source": [
    "### Get Pipeline API call"
   ]
  },
  {
   "cell_type": "code",
   "execution_count": 10,
   "id": "ea8a743f",
   "metadata": {},
   "outputs": [],
   "source": [
    "import requests\n",
    "import base64\n",
    "\n",
    "  \n",
    "sample_string = (Access_Key)+\":\"+(Secret_Key)\n",
    "sample_string_bytes = sample_string.encode(\"ascii\")\n",
    "  \n",
    "base64_bytes = base64.b64encode(sample_string_bytes)\n",
    "base64_string = base64_bytes.decode(\"ascii\")\n",
    "  \n",
    "#print(f\"Encoded string: {base64_string}\")\n",
    "\n",
    "url = 'https://'+ Region + '.hevodata.com/api/public/v2.0/pipelines/'+ str(pipeline_number)\n",
    "headers = {'Accept':'application/json','Authorization': 'Basic '+ base64_string}\n",
    "r = requests.get(url, headers=headers)\n",
    "\n",
    "#print (r.json())\n",
    "#print (r.json()['data']['destination'])"
   ]
  },
  {
   "cell_type": "markdown",
   "id": "bbc29492",
   "metadata": {},
   "source": [
    "### Initialize Source connection"
   ]
  },
  {
   "cell_type": "code",
   "execution_count": 11,
   "id": "5ca22d99",
   "metadata": {
    "scrolled": false
   },
   "outputs": [],
   "source": [
    "# import great_expectations as ge\n",
    "#import psycopg2 \n",
    "import pymysql\n",
    "import mysql.connector as mysql\n",
    "import pandas as pd\n",
    "\n",
    "#switch case\n",
    "user = r.json()['data']['source']['config']['db_user']\n",
    "password = r.json()['data']['source']['config']['db_password']\n",
    "port = r.json()['data']['source']['config']['db_port']\n",
    "host = r.json()['data']['source']['config']['db_host']\n",
    "db = r.json()['data']['source']['config']['db_names']\n",
    "if r.json()['data']['source']['type']['name']=='MYSQL':\n",
    "    CONN=mysql.connect(host=str(host),user=str(user),passwd='root',db=database_name) #case if many dbs are connected\n",
    "elif r.json()['data']['source']['type']['name']=='POSTGRES':\n",
    "    CONN=psycopg2.connect(host=host,port=port,user=user,password='root',database=db)\n",
    "\n",
    "# df = pd.read_sql_query('SELECT COUNT(distinct ID) as rows FROM Ecommerce.Users ',CONN)\n",
    "# df.head(1000)"
   ]
  },
  {
   "cell_type": "markdown",
   "id": "53eb1613",
   "metadata": {},
   "source": [
    "### Initialize Destination connection (Redshift,Snowflake,MySQL,Postgres)"
   ]
  },
  {
   "cell_type": "code",
   "execution_count": 12,
   "id": "b688b556",
   "metadata": {},
   "outputs": [],
   "source": [
    "import snowflake.connector\n",
    "import redshift_connector\n",
    "import pandas as pd\n",
    "\n",
    "if r.json()['data']['destination']['type']['name'] == 'SNOWFLAKE':\n",
    "    db_name = r.json()['data']['destination']['config']['db_name']\n",
    "    db_user = r.json()['data']['destination']['config']['db_user']\n",
    "    account_name = r.json()['data']['destination']['config']['account_name']\n",
    "    schema_name = r.json()['data']['destination']['config']['schema_name']\n",
    "    warehouse = r.json()['data']['destination']['config']['warehouse']\n",
    "    region = r.json()['data']['destination']['config']['region']\n",
    "    conn =  snowflake.connector.connect(user=str(db_user), password=str(destination_password), \n",
    "                                                    account=str(account_name) + \".\" + str(region), role='ACCOUNTADMIN', warehouse=warehouse,\n",
    "                                                    database = str(db_name), schema = str(schema_name))\n",
    "elif r.json()['data']['destination']['type']['name'] == 'REDSHIFT':    \n",
    "    db_name = r.json()['data']['destination']['config']['db_name']\n",
    "    db_host = r.json()['data']['destination']['config']['db_host']\n",
    "    db_user = r.json()['data']['destination']['config']['db_user']\n",
    "    db_port = r.json()['data']['destination']['config']['db_port']\n",
    "    conn = redshift_connector.connect(host=str(db_host),user=str(db_user),password='demoDEMO1236'\n",
    "                                 ,port=db_port,database=str(db_name))\n",
    "elif r.json()['data']['destination']['type']['name'] == 'MYSQL' or 'POSTGRES':\n",
    "    user = r.json()['data']['source']['config']['db_user']\n",
    "    password = r.json()['data']['source']['config']['db_password']\n",
    "    port = r.json()['data']['source']['config']['db_port']\n",
    "    host = r.json()['data']['source']['config']['db_host']\n",
    "    db = r.json()['data']['source']['config']['db_names']\n",
    "    if r.json()['data']['destination']['type']['name'] == 'MYSQL':\n",
    "        CONN=mysql.connect(host=str(host),user=str(user),passwd='root',db=database_name)\n",
    "    elif r.json()['data']['destination']['type']['name'] == 'POSTGRES':\n",
    "        CONN=psycopg2.connect(host=host,port=port,user=user,password='root',database=db)\n",
    "        \n",
    "        \n",
    "#conn\n",
    "# dff = pd.read_sql_query(\"Select * from demo.public.mysql_data_ecommerce_products\",conn)\n",
    "# dff.head(20)"
   ]
  },
  {
   "cell_type": "markdown",
   "id": "5e59ab24",
   "metadata": {},
   "source": [
    "### Loop through source tables"
   ]
  },
  {
   "cell_type": "code",
   "execution_count": 13,
   "id": "9a980894",
   "metadata": {},
   "outputs": [
    {
     "name": "stdout",
     "output_type": "stream",
     "text": [
      "['Products', 'userAddress', 'Users', 'orders']\n"
     ]
    }
   ],
   "source": [
    "url = \"https://us.hevodata.com/api/public/v2.0/pipelines/\"+str(pipeline_number)+\"/event-types?limit=100\"\n",
    "\n",
    "headers = {\n",
    "    \"Accept\": \"application/json\",\n",
    "    \"Authorization\": 'Basic '+ base64_string\n",
    "}\n",
    "\n",
    "response = requests.request(\"GET\", url, headers=headers)\n",
    "\n",
    "#print(response.json())\n",
    "table_count = (response.json()['pagination']['count'])\n",
    "source_tables = []\n",
    "for i in range(table_count):\n",
    "    source_tables.append(response.json()['data'][i]['event_type'])\n",
    "    \n",
    "print(source_tables)"
   ]
  },
  {
   "cell_type": "markdown",
   "id": "987abb26",
   "metadata": {},
   "source": [
    "### Source Row Count"
   ]
  },
  {
   "cell_type": "code",
   "execution_count": 14,
   "id": "f7fffc7b",
   "metadata": {},
   "outputs": [
    {
     "data": {
      "text/html": [
       "<div>\n",
       "<style scoped>\n",
       "    .dataframe tbody tr th:only-of-type {\n",
       "        vertical-align: middle;\n",
       "    }\n",
       "\n",
       "    .dataframe tbody tr th {\n",
       "        vertical-align: top;\n",
       "    }\n",
       "\n",
       "    .dataframe thead th {\n",
       "        text-align: right;\n",
       "    }\n",
       "</style>\n",
       "<table border=\"1\" class=\"dataframe\">\n",
       "  <thead>\n",
       "    <tr style=\"text-align: right;\">\n",
       "      <th></th>\n",
       "      <th>source_name</th>\n",
       "      <th>source_count</th>\n",
       "    </tr>\n",
       "  </thead>\n",
       "  <tbody>\n",
       "    <tr>\n",
       "      <th>0</th>\n",
       "      <td>Products</td>\n",
       "      <td>500</td>\n",
       "    </tr>\n",
       "    <tr>\n",
       "      <th>1</th>\n",
       "      <td>userAddress</td>\n",
       "      <td>500</td>\n",
       "    </tr>\n",
       "    <tr>\n",
       "      <th>2</th>\n",
       "      <td>Users</td>\n",
       "      <td>2486</td>\n",
       "    </tr>\n",
       "    <tr>\n",
       "      <th>3</th>\n",
       "      <td>orders</td>\n",
       "      <td>22545</td>\n",
       "    </tr>\n",
       "  </tbody>\n",
       "</table>\n",
       "</div>"
      ],
      "text/plain": [
       "   source_name  source_count\n",
       "0     Products           500\n",
       "1  userAddress           500\n",
       "2        Users          2486\n",
       "3       orders         22545"
      ]
     },
     "execution_count": 14,
     "metadata": {},
     "output_type": "execute_result"
    }
   ],
   "source": [
    "#df = pd.read_sql_query('show tables',db)\n",
    "source_row_count={}\n",
    "for table in source_tables:\n",
    "        #print (column)\n",
    "    source_row_count.setdefault(table,0)\n",
    "#print(source_row_count)\n",
    "\n",
    "for i in source_row_count.keys():\n",
    "    df = pd.read_sql_query('SELECT COUNT(*) as rows FROM Ecommerce.'+i,CONN)\n",
    "    source_row_count[i]=df.rows[0] \n",
    "#source_row_count\n",
    "row_counts_1 = []\n",
    "for i in source_row_count.values():\n",
    "    row_counts_1.append(i)\n",
    "row_counts_1\n",
    "\n",
    "final_df = pd.DataFrame(list(source_row_count.values()),index = list(source_row_count.keys()),columns=['source_count'])\n",
    "final_df.reset_index(level=0, inplace=True)\n",
    "final_df.rename(columns = {'index':'source_name'}, inplace = True)\n",
    "final_df.head()"
   ]
  },
  {
   "cell_type": "markdown",
   "id": "91a09880",
   "metadata": {},
   "source": [
    "### Loop through respective destination tables"
   ]
  },
  {
   "cell_type": "code",
   "execution_count": 15,
   "id": "e6706382",
   "metadata": {},
   "outputs": [
    {
     "data": {
      "text/plain": [
       "['TEST_PRODUCTS', 'TEST_USERADDRESS', 'TEST_USERS', 'TEST_ORDERS']"
      ]
     },
     "execution_count": 15,
     "metadata": {},
     "output_type": "execute_result"
    }
   ],
   "source": [
    "#Fetch Prefix??\n",
    "destination_tables=[]\n",
    "for i in source_tables:\n",
    "    url = \"https://us.hevodata.com/api/public/v2.0/pipelines/\"+str(pipeline_number)+\"/mappings/\" + i\n",
    "\n",
    "    headers = {\n",
    "        \"Accept\": \"application/json\",\n",
    "        \"Authorization\": 'Basic '+ base64_string\n",
    "    }\n",
    "\n",
    "    response = requests.request(\"GET\", url, headers=headers)\n",
    "    destination_tables.append(response.json()['data']['destination_table'])\n",
    "#     print(response.json()['data'])\n",
    "destination_tables"
   ]
  },
  {
   "cell_type": "markdown",
   "id": "dd9868c8",
   "metadata": {},
   "source": [
    "### Destination Row Count"
   ]
  },
  {
   "cell_type": "code",
   "execution_count": 16,
   "id": "a1e378a6",
   "metadata": {},
   "outputs": [
    {
     "name": "stdout",
     "output_type": "stream",
     "text": [
      "{'TEST_PRODUCTS': 500, 'TEST_USERADDRESS': 500, 'TEST_USERS': 2486, 'TEST_ORDERS': 22545}\n"
     ]
    },
    {
     "data": {
      "text/html": [
       "<div>\n",
       "<style scoped>\n",
       "    .dataframe tbody tr th:only-of-type {\n",
       "        vertical-align: middle;\n",
       "    }\n",
       "\n",
       "    .dataframe tbody tr th {\n",
       "        vertical-align: top;\n",
       "    }\n",
       "\n",
       "    .dataframe thead th {\n",
       "        text-align: right;\n",
       "    }\n",
       "</style>\n",
       "<table border=\"1\" class=\"dataframe\">\n",
       "  <thead>\n",
       "    <tr style=\"text-align: right;\">\n",
       "      <th></th>\n",
       "      <th>destination_name</th>\n",
       "      <th>dest_count</th>\n",
       "    </tr>\n",
       "  </thead>\n",
       "  <tbody>\n",
       "    <tr>\n",
       "      <th>0</th>\n",
       "      <td>TEST_PRODUCTS</td>\n",
       "      <td>500</td>\n",
       "    </tr>\n",
       "    <tr>\n",
       "      <th>1</th>\n",
       "      <td>TEST_USERADDRESS</td>\n",
       "      <td>500</td>\n",
       "    </tr>\n",
       "    <tr>\n",
       "      <th>2</th>\n",
       "      <td>TEST_USERS</td>\n",
       "      <td>2486</td>\n",
       "    </tr>\n",
       "    <tr>\n",
       "      <th>3</th>\n",
       "      <td>TEST_ORDERS</td>\n",
       "      <td>22545</td>\n",
       "    </tr>\n",
       "  </tbody>\n",
       "</table>\n",
       "</div>"
      ],
      "text/plain": [
       "   destination_name  dest_count\n",
       "0     TEST_PRODUCTS         500\n",
       "1  TEST_USERADDRESS         500\n",
       "2        TEST_USERS        2486\n",
       "3       TEST_ORDERS       22545"
      ]
     },
     "execution_count": 16,
     "metadata": {},
     "output_type": "execute_result"
    }
   ],
   "source": [
    "destination_row_count={}\n",
    "for table in destination_tables:\n",
    "        #print (column)\n",
    "    destination_row_count.setdefault(table,0)\n",
    "#print(destination_row_count)\n",
    "for i in destination_row_count.keys():\n",
    "    dff = pd.read_sql_query(\"Select COUNT(*) from demo.public.\"+i,conn)\n",
    "    destination_row_count[i]=dff['COUNT(*)'][0] \n",
    "#     print (dff.head())\n",
    "#destinaton_row_count = {k.lower(): v for k,v in destination_tables.items()}\n",
    "print(destination_row_count)\n",
    "row_counts_2=[]\n",
    "for i in destination_row_count.values():\n",
    "    row_counts_2.append(i)\n",
    "#row_counts_1 = source_row_count.values()\n",
    "row_counts_2\n",
    "\n",
    "dest_df = pd.DataFrame(list(destination_row_count.values()),index = list(destination_row_count.keys()),columns=['dest_count'])\n",
    "dest_df.reset_index(level=0, inplace=True)\n",
    "dest_df.rename(columns = {'index':'destination_name'}, inplace = True)\n",
    "dest_df.head()\n",
    "# dff = pd.read_sql_query(\"Select * from demo.public.test1_users\",conn)\n",
    "# dff.head()"
   ]
  },
  {
   "cell_type": "code",
   "execution_count": 17,
   "id": "d1ee8084",
   "metadata": {},
   "outputs": [],
   "source": [
    "finaldf = pd.concat([final_df, dest_df],axis=1)\n",
    "finaldf.head()\n",
    "finaldf['diff'] = finaldf['source_count'] - finaldf['dest_count']\n",
    "finaldf.to_csv('results2.csv',index = False)"
   ]
  },
  {
   "cell_type": "markdown",
   "id": "29273f54",
   "metadata": {},
   "source": [
    "## Plotting"
   ]
  },
  {
   "cell_type": "code",
   "execution_count": 18,
   "id": "f62c71d3",
   "metadata": {},
   "outputs": [],
   "source": [
    "# import matplotlib.pyplot as plt\n",
    "# import numpy as np\n",
    "\n",
    "# x = np.arange(len(source_tables))  # the label locations\n",
    "# width = 0.35  # the width of the bars\n",
    "\n",
    "# fig, ax = plt.subplots()\n",
    "# rects1 = ax.bar(x - width/2, row_counts_1, width, label='Source')\n",
    "# rects2 = ax.bar(x + width/2, row_counts_2, width, label='Destination')\n",
    "\n",
    "# # Add some text for labels, title and custom x-axis tick labels, etc.\n",
    "# ax.set_ylabel('Count')\n",
    "# ax.set_title('Table count in source and destination')\n",
    "# ax.set_xticks(x) # values\n",
    "# ax.set_xticklabels(source_tables) # labels\n",
    "# ax.legend()\n",
    "\n",
    "# # ax.bar_label(rects1, padding=3)\n",
    "# # ax.bar_label(rects2, padding=3)\n",
    "\n",
    "# fig.tight_layout()\n",
    "\n",
    "# plt.show()"
   ]
  },
  {
   "cell_type": "markdown",
   "id": "ccc45f4c",
   "metadata": {},
   "source": [
    "### Compare Row Count of both tables"
   ]
  },
  {
   "cell_type": "code",
   "execution_count": 19,
   "id": "c06c4540",
   "metadata": {},
   "outputs": [],
   "source": [
    "# data.expect_table_row_count_to_equal(df.shape[0])"
   ]
  },
  {
   "cell_type": "markdown",
   "id": "ae653a92",
   "metadata": {},
   "source": [
    "### Compare Column Count"
   ]
  },
  {
   "cell_type": "code",
   "execution_count": 20,
   "id": "446e0439",
   "metadata": {},
   "outputs": [],
   "source": [
    "# data.expect_table_column_count_to_equal(df.shape[1])"
   ]
  },
  {
   "cell_type": "markdown",
   "id": "beb6d129",
   "metadata": {},
   "source": [
    "### Column Values to not be NULL"
   ]
  },
  {
   "cell_type": "code",
   "execution_count": 21,
   "id": "4cc7b0f3",
   "metadata": {},
   "outputs": [],
   "source": [
    "# data.expect_column_values_to_not_be_null('ID')"
   ]
  },
  {
   "cell_type": "markdown",
   "id": "a3ba6cde",
   "metadata": {},
   "source": [
    "### Column values to be unique"
   ]
  },
  {
   "cell_type": "code",
   "execution_count": 22,
   "id": "45ddbec8",
   "metadata": {},
   "outputs": [],
   "source": [
    "# data.expect_column_values_to_be_unique('ID')"
   ]
  },
  {
   "cell_type": "code",
   "execution_count": 23,
   "id": "4e4575f4",
   "metadata": {},
   "outputs": [],
   "source": [
    "# 1. Change source and dest count queries - N done\n",
    "# 2. Cluster input - N done\n",
    "# 3. Requirements.txt - S\n",
    "# 4. DataFrame output - S\n",
    "# 5. Source : add MS_SQL, MongoDB - N\n",
    "# 6. Destination: add MySQL, PG - N done \n",
    "# 7. Clean code - N \n",
    "# 8. DB name input - N - done\n",
    "# 9. Unique count - N - 'SELECT ID, COUNT(*) FROM Ecommerce.Users GROUP BY 1 HAVING COUNT(*) = 1',CONN  \n",
    "# 'SELECT COUNT(distinct ID) as rows FROM Ecommerce.Users' done\n",
    "# 10.Output to excel - S"
   ]
  },
  {
   "cell_type": "code",
   "execution_count": 24,
   "id": "f15e77df",
   "metadata": {},
   "outputs": [],
   "source": [
    "# import pyodbc \n",
    "\n",
    "# conn = pyodbc.connect('Driver={SQL Server};'\n",
    "#                       'Server=http://solutions-demodb.hevo.me/;'\n",
    "#                       'Database=ecommerce;'\n",
    "#                       'Trusted_Connection=yes;'\n",
    "#                       'UID=root;'\n",
    "#                       'PWD=root;')\n",
    "\n",
    "# df = pd.read_sql_query('SELECT * FROM products', conn)\n",
    "\n",
    "# print(df)\n",
    "# print(type(df))"
   ]
  },
  {
   "cell_type": "code",
   "execution_count": 25,
   "id": "6ec39bb6",
   "metadata": {},
   "outputs": [],
   "source": [
    "# pyodbc.drivers()"
   ]
  },
  {
   "cell_type": "code",
   "execution_count": 26,
   "id": "249ab66f",
   "metadata": {},
   "outputs": [],
   "source": [
    "# dff = pd.read_sql_query(\"Select COUNT(*) from demo.public.\"+i,conn)"
   ]
  },
  {
   "cell_type": "code",
   "execution_count": 27,
   "id": "55a7b619",
   "metadata": {},
   "outputs": [],
   "source": [
    "# dff['COUNT(*)'][0]"
   ]
  }
 ],
 "metadata": {
  "kernelspec": {
   "display_name": "Python 3",
   "language": "python",
   "name": "python3"
  },
  "language_info": {
   "codemirror_mode": {
    "name": "ipython",
    "version": 3
   },
   "file_extension": ".py",
   "mimetype": "text/x-python",
   "name": "python",
   "nbconvert_exporter": "python",
   "pygments_lexer": "ipython3",
   "version": "3.8.8"
  }
 },
 "nbformat": 4,
 "nbformat_minor": 5
}
