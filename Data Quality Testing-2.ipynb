{
 "cells": [
  {
   "cell_type": "markdown",
   "id": "b2584188",
   "metadata": {},
   "source": [
    "### Initialize MySQL Connection "
   ]
  },
  {
   "cell_type": "code",
   "execution_count": 31,
   "id": "5ca22d99",
   "metadata": {
    "scrolled": false
   },
   "outputs": [
    {
     "name": "stderr",
     "output_type": "stream",
     "text": [
      "/Users/nikhilbansal/opt/anaconda3/lib/python3.8/site-packages/ipykernel/ipkernel.py:287: DeprecationWarning: `should_run_async` will not call `transform_cell` automatically in the future. Please pass the result to `transformed_cell` argument and any exception that happen during thetransform in `preprocessing_exc_tuple` in IPython 7.17 and above.\n",
      "  and should_run_async(code)\n"
     ]
    }
   ],
   "source": [
    "import great_expectations as ge\n",
    "\n",
    "import pymysql\n",
    "\n",
    "import pandas as pd\n",
    "\n",
    "conn=pymysql.connect(host='solutions-demodb.hevo.me',port=3306,user='root',passwd='root',db='Ecommerce')"
   ]
  },
  {
   "cell_type": "markdown",
   "id": "5e59ab24",
   "metadata": {},
   "source": [
    "### Loop through MySQL Tables and Validate"
   ]
  },
  {
   "cell_type": "code",
   "execution_count": 93,
   "id": "9a980894",
   "metadata": {},
   "outputs": [],
   "source": [
    "#df=pd.read_sql_query(\"show tables \",conn)\n",
    "\n",
    "# Table_Names=[]\n",
    "# for i,row in df.iterrows():\n",
    "#     for j,column in row.iteritems():\n",
    "#         print (column)\n",
    "#         Table_Names.append(column)\n",
    "\n",
    "#print(Table_Names)\n",
    "# for i in range(len(Table_Names)):\n",
    "#     df = pd.read_sql_query(\"Select * from \"+Table_Names[i],conn)\n",
    "#     df = ge.from_pandas(df)\n",
    "#     print (Table_Names[i])\n",
    "#     print (validate_table(df))"
   ]
  },
  {
   "cell_type": "code",
   "execution_count": 95,
   "id": "a1e378a6",
   "metadata": {},
   "outputs": [
    {
     "name": "stderr",
     "output_type": "stream",
     "text": [
      "/Users/nikhilbansal/opt/anaconda3/lib/python3.8/site-packages/ipykernel/ipkernel.py:287: DeprecationWarning: `should_run_async` will not call `transform_cell` automatically in the future. Please pass the result to `transformed_cell` argument and any exception that happen during thetransform in `preprocessing_exc_tuple` in IPython 7.17 and above.\n",
      "  and should_run_async(code)\n"
     ]
    },
    {
     "data": {
      "text/html": [
       "<div>\n",
       "<style scoped>\n",
       "    .dataframe tbody tr th:only-of-type {\n",
       "        vertical-align: middle;\n",
       "    }\n",
       "\n",
       "    .dataframe tbody tr th {\n",
       "        vertical-align: top;\n",
       "    }\n",
       "\n",
       "    .dataframe thead th {\n",
       "        text-align: right;\n",
       "    }\n",
       "</style>\n",
       "<table border=\"1\" class=\"dataframe\">\n",
       "  <thead>\n",
       "    <tr style=\"text-align: right;\">\n",
       "      <th></th>\n",
       "      <th>ID</th>\n",
       "      <th>USERID</th>\n",
       "      <th>ORDERID</th>\n",
       "      <th>PRODUCTID</th>\n",
       "      <th>QUANTITY</th>\n",
       "      <th>PRICE</th>\n",
       "      <th>ORDERSTATUS</th>\n",
       "      <th>LASTUPDATED</th>\n",
       "      <th>__HEVO__SCHEMA_NAME</th>\n",
       "      <th>__HEVO__INGESTED_AT</th>\n",
       "      <th>__HEVO__LOADED_AT</th>\n",
       "    </tr>\n",
       "  </thead>\n",
       "  <tbody>\n",
       "    <tr>\n",
       "      <th>0</th>\n",
       "      <td>275</td>\n",
       "      <td>275</td>\n",
       "      <td>1380129400</td>\n",
       "      <td>275</td>\n",
       "      <td>37</td>\n",
       "      <td>182.0</td>\n",
       "      <td>Transit</td>\n",
       "      <td>2020-06-30</td>\n",
       "      <td>ecommerce</td>\n",
       "      <td>1639993352907</td>\n",
       "      <td>1640058685433</td>\n",
       "    </tr>\n",
       "    <tr>\n",
       "      <th>1</th>\n",
       "      <td>278</td>\n",
       "      <td>278</td>\n",
       "      <td>188946675</td>\n",
       "      <td>278</td>\n",
       "      <td>4</td>\n",
       "      <td>499.0</td>\n",
       "      <td>Pending</td>\n",
       "      <td>2021-03-02</td>\n",
       "      <td>ecommerce</td>\n",
       "      <td>1639993352908</td>\n",
       "      <td>1640058685433</td>\n",
       "    </tr>\n",
       "    <tr>\n",
       "      <th>2</th>\n",
       "      <td>315</td>\n",
       "      <td>315</td>\n",
       "      <td>1473102642</td>\n",
       "      <td>315</td>\n",
       "      <td>27</td>\n",
       "      <td>911.0</td>\n",
       "      <td>Delivered</td>\n",
       "      <td>2020-10-26</td>\n",
       "      <td>ecommerce</td>\n",
       "      <td>1639993352911</td>\n",
       "      <td>1640058685433</td>\n",
       "    </tr>\n",
       "    <tr>\n",
       "      <th>3</th>\n",
       "      <td>371</td>\n",
       "      <td>371</td>\n",
       "      <td>678701067</td>\n",
       "      <td>371</td>\n",
       "      <td>18</td>\n",
       "      <td>923.0</td>\n",
       "      <td>Transit</td>\n",
       "      <td>2020-08-01</td>\n",
       "      <td>ecommerce</td>\n",
       "      <td>1639993352916</td>\n",
       "      <td>1640058685433</td>\n",
       "    </tr>\n",
       "    <tr>\n",
       "      <th>4</th>\n",
       "      <td>446</td>\n",
       "      <td>446</td>\n",
       "      <td>2124871587</td>\n",
       "      <td>446</td>\n",
       "      <td>43</td>\n",
       "      <td>456.0</td>\n",
       "      <td>Pending</td>\n",
       "      <td>2021-01-30</td>\n",
       "      <td>ecommerce</td>\n",
       "      <td>1639993352921</td>\n",
       "      <td>1640058685433</td>\n",
       "    </tr>\n",
       "  </tbody>\n",
       "</table>\n",
       "</div>"
      ],
      "text/plain": [
       "    ID  USERID     ORDERID  PRODUCTID  QUANTITY  PRICE ORDERSTATUS  \\\n",
       "0  275     275  1380129400        275        37  182.0     Transit   \n",
       "1  278     278   188946675        278         4  499.0     Pending   \n",
       "2  315     315  1473102642        315        27  911.0   Delivered   \n",
       "3  371     371   678701067        371        18  923.0     Transit   \n",
       "4  446     446  2124871587        446        43  456.0     Pending   \n",
       "\n",
       "  LASTUPDATED __HEVO__SCHEMA_NAME  __HEVO__INGESTED_AT  __HEVO__LOADED_AT  \n",
       "0  2020-06-30           ecommerce        1639993352907      1640058685433  \n",
       "1  2021-03-02           ecommerce        1639993352908      1640058685433  \n",
       "2  2020-10-26           ecommerce        1639993352911      1640058685433  \n",
       "3  2020-08-01           ecommerce        1639993352916      1640058685433  \n",
       "4  2021-01-30           ecommerce        1639993352921      1640058685433  "
      ]
     },
     "execution_count": 95,
     "metadata": {},
     "output_type": "execute_result"
    }
   ],
   "source": [
    "df = pd.read_sql_query(\"Select * from Orders\",conn)\n",
    "df = ge.from_pandas(df)\n",
    "df.head()"
   ]
  },
  {
   "cell_type": "code",
   "execution_count": 103,
   "id": "f5256e4b",
   "metadata": {},
   "outputs": [
    {
     "data": {
      "text/plain": [
       "(100, 11)"
      ]
     },
     "execution_count": 103,
     "metadata": {},
     "output_type": "execute_result"
    }
   ],
   "source": [
    "df.shape"
   ]
  },
  {
   "cell_type": "markdown",
   "id": "4e5c6bf3",
   "metadata": {},
   "source": [
    "### Initialize Snowflake Connection"
   ]
  },
  {
   "cell_type": "code",
   "execution_count": 102,
   "id": "766a3228",
   "metadata": {},
   "outputs": [
    {
     "data": {
      "text/plain": [
       "(100, 12)"
      ]
     },
     "execution_count": 102,
     "metadata": {},
     "output_type": "execute_result"
    }
   ],
   "source": [
    "import snowflake.connector\n",
    "\n",
    "# Connectio string\n",
    "conn = snowflake.connector.connect(\n",
    "                user='NIKHIL99', \n",
    "    password='Hevo_Solutions7', \n",
    "    account='me28302.ap-south-1', \n",
    "    role='SYSADMIN', \n",
    "    warehouse='COMPUTE_WH',\n",
    "    database = 'TEST',\n",
    "    schema = 'PUBLIC',\n",
    "                )\n",
    "\n",
    "data=pd.read_sql_query(\"select * from TEST.PUBLIC.TS_ORDERS \",conn)\n",
    "\n",
    "data = ge.from_pandas(data)\n",
    "data.head()\n",
    "#data.shape"
   ]
  },
  {
   "cell_type": "markdown",
   "id": "ccc45f4c",
   "metadata": {},
   "source": [
    "### Compare Row Count of both tables"
   ]
  },
  {
   "cell_type": "code",
   "execution_count": 100,
   "id": "c06c4540",
   "metadata": {},
   "outputs": [
    {
     "name": "stderr",
     "output_type": "stream",
     "text": [
      "/Users/nikhilbansal/opt/anaconda3/lib/python3.8/site-packages/ipykernel/ipkernel.py:287: DeprecationWarning: `should_run_async` will not call `transform_cell` automatically in the future. Please pass the result to `transformed_cell` argument and any exception that happen during thetransform in `preprocessing_exc_tuple` in IPython 7.17 and above.\n",
      "  and should_run_async(code)\n"
     ]
    },
    {
     "data": {
      "text/plain": [
       "{\n",
       "  \"meta\": {},\n",
       "  \"exception_info\": {\n",
       "    \"raised_exception\": false,\n",
       "    \"exception_traceback\": null,\n",
       "    \"exception_message\": null\n",
       "  },\n",
       "  \"success\": true,\n",
       "  \"result\": {\n",
       "    \"observed_value\": 100\n",
       "  }\n",
       "}"
      ]
     },
     "execution_count": 100,
     "metadata": {},
     "output_type": "execute_result"
    }
   ],
   "source": [
    "data.expect_table_row_count_to_equal(df.shape[0])"
   ]
  },
  {
   "cell_type": "markdown",
   "id": "ae653a92",
   "metadata": {},
   "source": [
    "### Compare Column Count"
   ]
  },
  {
   "cell_type": "code",
   "execution_count": 101,
   "id": "446e0439",
   "metadata": {},
   "outputs": [
    {
     "data": {
      "text/plain": [
       "{\n",
       "  \"meta\": {},\n",
       "  \"exception_info\": {\n",
       "    \"raised_exception\": false,\n",
       "    \"exception_traceback\": null,\n",
       "    \"exception_message\": null\n",
       "  },\n",
       "  \"success\": false,\n",
       "  \"result\": {\n",
       "    \"observed_value\": 12\n",
       "  }\n",
       "}"
      ]
     },
     "execution_count": 101,
     "metadata": {},
     "output_type": "execute_result"
    }
   ],
   "source": [
    "data.expect_table_column_count_to_equal(df.shape[1])"
   ]
  },
  {
   "cell_type": "markdown",
   "id": "beb6d129",
   "metadata": {},
   "source": [
    "### Column Values to not be NULL"
   ]
  },
  {
   "cell_type": "code",
   "execution_count": 77,
   "id": "4cc7b0f3",
   "metadata": {},
   "outputs": [
    {
     "data": {
      "text/plain": [
       "{\n",
       "  \"meta\": {},\n",
       "  \"exception_info\": {\n",
       "    \"raised_exception\": false,\n",
       "    \"exception_traceback\": null,\n",
       "    \"exception_message\": null\n",
       "  },\n",
       "  \"success\": true,\n",
       "  \"result\": {\n",
       "    \"element_count\": 100,\n",
       "    \"unexpected_count\": 0,\n",
       "    \"unexpected_percent\": 0.0,\n",
       "    \"unexpected_percent_total\": 0.0,\n",
       "    \"partial_unexpected_list\": []\n",
       "  }\n",
       "}"
      ]
     },
     "execution_count": 77,
     "metadata": {},
     "output_type": "execute_result"
    }
   ],
   "source": [
    "data.expect_column_values_to_not_be_null('ID')"
   ]
  },
  {
   "cell_type": "markdown",
   "id": "a3ba6cde",
   "metadata": {},
   "source": [
    "### Column values to be unique"
   ]
  },
  {
   "cell_type": "code",
   "execution_count": 79,
   "id": "45ddbec8",
   "metadata": {},
   "outputs": [
    {
     "name": "stderr",
     "output_type": "stream",
     "text": [
      "/Users/nikhilbansal/opt/anaconda3/lib/python3.8/site-packages/ipykernel/ipkernel.py:287: DeprecationWarning: `should_run_async` will not call `transform_cell` automatically in the future. Please pass the result to `transformed_cell` argument and any exception that happen during thetransform in `preprocessing_exc_tuple` in IPython 7.17 and above.\n",
      "  and should_run_async(code)\n"
     ]
    },
    {
     "data": {
      "text/plain": [
       "{\n",
       "  \"meta\": {},\n",
       "  \"exception_info\": {\n",
       "    \"raised_exception\": false,\n",
       "    \"exception_traceback\": null,\n",
       "    \"exception_message\": null\n",
       "  },\n",
       "  \"success\": true,\n",
       "  \"result\": {\n",
       "    \"element_count\": 100,\n",
       "    \"missing_count\": 0,\n",
       "    \"missing_percent\": 0.0,\n",
       "    \"unexpected_count\": 0,\n",
       "    \"unexpected_percent\": 0.0,\n",
       "    \"unexpected_percent_total\": 0.0,\n",
       "    \"unexpected_percent_nonmissing\": 0.0,\n",
       "    \"partial_unexpected_list\": []\n",
       "  }\n",
       "}"
      ]
     },
     "execution_count": 79,
     "metadata": {},
     "output_type": "execute_result"
    }
   ],
   "source": [
    "data.expect_column_values_to_be_unique('ID')"
   ]
  }
 ],
 "metadata": {
  "kernelspec": {
   "display_name": "Python 3",
   "language": "python",
   "name": "python3"
  },
  "language_info": {
   "codemirror_mode": {
    "name": "ipython",
    "version": 3
   },
   "file_extension": ".py",
   "mimetype": "text/x-python",
   "name": "python",
   "nbconvert_exporter": "python",
   "pygments_lexer": "ipython3",
   "version": "3.8.8"
  }
 },
 "nbformat": 4,
 "nbformat_minor": 5
}
